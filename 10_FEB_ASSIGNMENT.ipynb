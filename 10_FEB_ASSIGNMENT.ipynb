{
 "cells": [
  {
   "cell_type": "code",
   "execution_count": 1,
   "id": "87201ee9-6da7-4dde-8050-95833d6ee56d",
   "metadata": {},
   "outputs": [],
   "source": [
    "# Q1. Which function is used to open a file? What are the different modes of opening a file? Explain each mode\n",
    "# of file opening."
   ]
  },
  {
   "cell_type": "markdown",
   "id": "10ace75c-bd23-4075-b049-41426a92adcd",
   "metadata": {},
   "source": [
    "ANS = In Python, the open() function is used to open a file. It allows you to interact with files in various modes. The general syntax of the open() function is as follows:\n",
    "    \n",
    "example = open(file, mode='r', buffering=-1, encoding=None, errors=None, newline=None, closefd=True, opener=None)\n",
    "\n",
    "-->The file parameter specifies the name of the file you want to open, and the mode parameter defines how the file will be opened. Here are the different modes of file opening in Python:\n",
    "\n",
    "* 'r' (Read Mode):\n",
    "\n",
    "This is the default mode.\n",
    "It allows you to read data from the file.\n",
    "The file pointer is placed at the beginning of the file.\n",
    "If the file does not exist, it raises a FileNotFoundError.\n",
    "\n",
    "* 'w' (Write Mode):\n",
    "\n",
    "This mode is used to write data to a file.\n",
    "If the file already exists, its content is truncated (deleted).\n",
    "If the file does not exist, a new file is created.\n",
    "The file pointer is placed at the beginning of the file.\n",
    "\n",
    "* 'a' (Append Mode):\n",
    "\n",
    "This mode is used to append data to an existing file.\n",
    "If the file already exists, the data is written at the end of the file.\n",
    "If the file does not exist, a new file is created.\n",
    "The file pointer is placed at the end of the file.\n",
    "\n",
    "* 'x' (Exclusive Creation Mode):\n",
    "\n",
    "This mode is used to create a new file, but it fails if the file already exists.\n",
    "If the file exists, a FileExistsError is raised.\n",
    "\n",
    "* 'b' (Binary Mode):\n",
    "\n",
    "This mode is used to open a file in binary mode, allowing you to read and write binary data.\n",
    "For example, to read/write images or other non-text files.\n",
    "\n",
    "* 't' (Text Mode):\n",
    "\n",
    "This mode is the default when opening files in text format.\n",
    "It is used to read and write text data.\n",
    "\n",
    "* '+' (Update Mode):\n",
    "\n",
    "This mode allows you to read and write to a file simultaneously.\n",
    "For example, 'r+' allows both reading and writing, and 'w+' allows reading and writing, with the file being truncated.\n",
    "To use a combination of modes, you can concatenate them. For example:\n",
    "\n",
    "'rb': Read in binary mode.\n",
    "'wt': Write in text mode.\n",
    "'a+': Append in text mode and allow reading.\n",
    "\n",
    "-->Remember to close the file after performing operations using the close() method on the file object, or you can use the with statement to automatically handle the closing of the file when the block is exited.<--"
   ]
  },
  {
   "cell_type": "code",
   "execution_count": 2,
   "id": "19e664c9-4137-4982-8a4d-f557a8c16b75",
   "metadata": {},
   "outputs": [],
   "source": [
    "# Q2. Why close() function is used? Why is it important to close a file?"
   ]
  },
  {
   "cell_type": "markdown",
   "id": "1d3c9434-3bd8-4281-b91f-3e5b39693ffe",
   "metadata": {},
   "source": [
    "ANS = The close() function is used to close an open file in Python. It is essential to close a file after performing operations on it to release the system resources associated with the file. When you open a file, the operating system allocates certain resources to handle the file operations. These resources include file buffers, file pointers, and other internal data structures. If you don't close the file properly, these resources might not be released until the Python program terminates, which can lead to several issues:\n",
    "\n",
    "Resource Leakage: If you open a large number of files without closing them, it can lead to resource leakage, as the resources associated with each open file are not released until the program terminates. This can cause your program to consume more memory and other system resources than necessary, potentially leading to performance problems.\n",
    "\n",
    "Data Integrity: When you write data to a file, the data may not be immediately flushed to the disk. Instead, it is often buffered in memory to improve I/O performance. If you don't close the file properly, the data might not be written to the disk, and you could lose important data in case of a program crash or unexpected termination.\n",
    "\n",
    "File Locking: Some operating systems implement file locking mechanisms to prevent multiple processes from simultaneously modifying the same file. If you don't close the file properly, it might remain locked, preventing other processes from accessing or modifying it.\n",
    "\n",
    "To avoid these issues, it is important to close the file using the close() method when you have finished performing operations on it. Here's an example of how to properly close a file using the close() method:\n",
    "        \n",
    "ex : file_path = 'example.txt'\n",
    "     \n",
    "     file = open(file_path, 'r')\n",
    "\n",
    "     # Perform opertion\n",
    "\n",
    "     file.close()\n"
   ]
  },
  {
   "cell_type": "markdown",
   "id": "3ff0a95c-76af-4b4e-929e-f9a9bb3eae87",
   "metadata": {},
   "source": [
    "--->However, a more recommended approach is to use the with statement, which automatically handles closing the file when the block inside it is exited, even if an exception occurs:\n",
    "     \n",
    "     ex : file_path = 'example.txt'\n",
    "      with open(file_path, 'r') as file:\n",
    "    # Perform operations on the file inside this block\n",
    "\n",
    "    # File is automatically closed after the block is exited\n"
   ]
  },
  {
   "cell_type": "code",
   "execution_count": 5,
   "id": "25b7f906-5016-49b2-9b59-7f033faf9842",
   "metadata": {},
   "outputs": [],
   "source": [
    "# Q3. Write a python program to create a text file. Write ‘I want to become a Data Scientist’ in that file. Then\n",
    "# close the file. Open this file and read the content of the file."
   ]
  },
  {
   "cell_type": "code",
   "execution_count": 11,
   "id": "a2a9b123-bc90-4733-b983-95c92aa5a094",
   "metadata": {},
   "outputs": [
    {
     "name": "stdout",
     "output_type": "stream",
     "text": [
      "I want to become a Data Scientist\n"
     ]
    }
   ],
   "source": [
    "f = open(\"ASSIGNMENT.txt\" , \"w\")\n",
    "f.write(\"I want to become a Data Scientist\")\n",
    "f.close()\n",
    "with open(\"ASSIGNMENT.txt\" , \"r\") as f :\n",
    "    print(f.read())"
   ]
  },
  {
   "cell_type": "code",
   "execution_count": 12,
   "id": "59f96a3a-0948-40a0-83e3-70527a214c7b",
   "metadata": {},
   "outputs": [],
   "source": [
    "# Q4. Explain the following with python code: read(), readline() and readlines()."
   ]
  },
  {
   "cell_type": "markdown",
   "id": "689a64db-5bf4-45cc-8443-ffa983d2b44c",
   "metadata": {},
   "source": [
    "ANS = -->when working with files, you have different methods to read the content from a file. These methods include read(), readline(), and readlines(). Let's explain each of these methods with Python code examples:\n",
    "\n",
    "1 read(): The read() method reads the entire content of the file as a single string. It reads from the current file position until the end of the file or up to the specified number of characters if provided as an argument."
   ]
  },
  {
   "cell_type": "code",
   "execution_count": 16,
   "id": "eca31649-8587-422e-bca0-272e62548146",
   "metadata": {},
   "outputs": [
    {
     "name": "stdout",
     "output_type": "stream",
     "text": [
      "File content:\n",
      "I want to become a Data Scientist\n"
     ]
    }
   ],
   "source": [
    " with open(\"ASSIGNMENT.txt\", 'r') as file:\n",
    "            # Read the entire content of the file as a single string\n",
    "            content = file.read()\n",
    "            print(\"File content:\")\n",
    "            print(content)"
   ]
  },
  {
   "cell_type": "markdown",
   "id": "521c98c2-6809-4cf6-8249-0e5dc53358ea",
   "metadata": {},
   "source": [
    "2 readline(): The readline() method reads a single line from the file at the current file position. It stops when it encounters a newline character ('\\n') or reaches the end of the file."
   ]
  },
  {
   "cell_type": "code",
   "execution_count": 17,
   "id": "1e59e7fe-cb63-4b4b-85de-ae8382675205",
   "metadata": {},
   "outputs": [
    {
     "name": "stdout",
     "output_type": "stream",
     "text": [
      "First line of the file:\n",
      "I want to become a Data Scientist\n"
     ]
    }
   ],
   "source": [
    "with open(\"ASSIGNMENT.txt\", 'r') as file:\n",
    "            # Read the first line of the file\n",
    "            line = file.readline()\n",
    "            print(\"First line of the file:\")\n",
    "            print(line)"
   ]
  },
  {
   "cell_type": "markdown",
   "id": "104a257c-90d8-45f6-ae82-869767db7fee",
   "metadata": {},
   "source": [
    "3 readlines(): The readlines() method reads all the lines of the file and returns them as a list of strings. Each element of the list represents one line from the file."
   ]
  },
  {
   "cell_type": "code",
   "execution_count": 39,
   "id": "7849f4b0-85bd-4ce7-9eac-40e2c3c3cf35",
   "metadata": {},
   "outputs": [
    {
     "name": "stdout",
     "output_type": "stream",
     "text": [
      "I want to become a Data Scientist\n"
     ]
    }
   ],
   "source": [
    "ASSIGN=open(\"ASSIGNMENT.txt\", 'r')\n",
    "            # Read all lines of the file and store them in a list\n",
    "lines=ASSIGN.readlines()\n",
    "for line in lines:\n",
    "                print(line.strip())"
   ]
  },
  {
   "cell_type": "code",
   "execution_count": 40,
   "id": "0b467faa-21db-4d79-83d6-bf998720e608",
   "metadata": {},
   "outputs": [],
   "source": [
    "# Q5. Explain why with statement is used with open(). What is the advantage of using with statement and \n",
    "# open() together?"
   ]
  },
  {
   "cell_type": "markdown",
   "id": "b92ff2e4-ef51-407f-b7d5-1ed2bda9c9c0",
   "metadata": {},
   "source": [
    "ANS =The with statement in Python is used in conjunction with file I/O operations, particularly when working with files using the open() function. It provides a convenient and efficient way to work with files by ensuring that file resources are properly managed, including opening and closing the file, even in the presence of exceptions or errors.\n",
    "\n",
    "--->The advantage of using the with statement with open() are as follows:<---\n",
    "\n",
    "* Automatic Resource Management: The with statement takes care of automatically closing the file after the indented block is executed. It guarantees that the file will be properly closed, regardless of whether an exception occurs during the execution or not.\n",
    "\n",
    "* Cleaner Code: Using the with statement makes the code more concise and readable. It eliminates the need for explicit handling of file closing using file.close() after the file operations are done.\n",
    "\n",
    "* Exception Safety: In case an exception occurs within the with block, the file will still be closed automatically, preventing potential resource leaks and ensuring proper exception handling."
   ]
  },
  {
   "cell_type": "markdown",
   "id": "b6ab3879-0891-404a-bcd3-e3765d3286da",
   "metadata": {},
   "source": [
    " difference between using with and explicitly closing the file:"
   ]
  },
  {
   "cell_type": "code",
   "execution_count": 41,
   "id": "9601a512-f3bc-43df-87f1-4872e1612295",
   "metadata": {},
   "outputs": [],
   "source": [
    "with open('ASSIGNMENT.txt', 'r') as file:\n",
    "    content = file.read()\n",
    "    # Do some operations with the file content\n",
    "\n",
    "# File is automatically closed after the 'with' block\n",
    "\n",
    "# Equivalent code without with statement\n",
    "file = open('ASSIGNMENT.txt', 'r')\n",
    "content = file.read()\n",
    "# Do some operations with the file content\n",
    "file.close()"
   ]
  },
  {
   "cell_type": "markdown",
   "id": "c1a1d8d9-602a-4c05-ac37-f48d0be8c43c",
   "metadata": {},
   "source": [
    "As you can see, the with statement simplifies the code and ensures that the file is closed appropriately without needing to explicitly call file.close(). This leads to more reliable and maintainable code when working with files in Python.As you can see, the with statement simplifies the code and ensures that the file is closed appropriately without needing to explicitly call file.close(). This leads to more reliable and maintainable code when working with files in Python."
   ]
  },
  {
   "cell_type": "code",
   "execution_count": 42,
   "id": "fb88a996-a88c-4aaa-ab5d-6670c728b767",
   "metadata": {},
   "outputs": [],
   "source": [
    "# Q6. Explain the write() and writelines() functions. Give a suitable example."
   ]
  },
  {
   "cell_type": "markdown",
   "id": "3b2720de-2088-4a3b-8e0c-3d155a658bc9",
   "metadata": {},
   "source": [
    "ANS =  the write() and writelines() functions are used for writing data to a file. These functions are part of the file object returned by the open() function in write mode ('w').\n",
    "\n",
    "1.write(): The write() function is used to write a single string to the file. If the file already exists, it will overwrite the existing content. If the file does not exist, a new file will be created."
   ]
  },
  {
   "cell_type": "code",
   "execution_count": 44,
   "id": "e9591f57-0bda-459e-a18c-c4a40adb2eed",
   "metadata": {},
   "outputs": [
    {
     "name": "stdout",
     "output_type": "stream",
     "text": [
      "Content written to the file successfully.\n"
     ]
    }
   ],
   "source": [
    "with open(\"ASSIGNMENT.txt\", 'w') as file:\n",
    "            # Write the content to the file\n",
    "            file.write(\"if we use the write functiooon then it will for a single string to the file\")\n",
    "            print(\"Content written to the file successfully.\")"
   ]
  },
  {
   "cell_type": "markdown",
   "id": "47f3af18-2c39-43fa-95b0-9498258231bf",
   "metadata": {},
   "source": [
    "2.writelines(): The writelines() function is used to write multiple lines of text to the file. It takes an iterable (e.g., a list or tuple) of strings as input and writes each string as a separate line in the file. Like write(), it will also overwrite the file if it already exists."
   ]
  },
  {
   "cell_type": "code",
   "execution_count": 45,
   "id": "3496ef46-bbaa-40ab-bced-d725e09772ea",
   "metadata": {},
   "outputs": [
    {
     "name": "stdout",
     "output_type": "stream",
     "text": [
      "Lines written to the file successfully.\n"
     ]
    }
   ],
   "source": [
    " with open(\"ASSIGNMENT.txt\", 'w') as file:\n",
    "            # Write multiple lines to the file\n",
    "            file.writelines(lines)\n",
    "            print(\"Lines written to the file successfully.\")"
   ]
  },
  {
   "cell_type": "markdown",
   "id": "7fc7b808-30bd-4287-aded-a67170544dcc",
   "metadata": {},
   "source": [
    "---Remember that when using write() and writelines(), it's important to include newline characters (\\n) if you want to write each line separately. Otherwise, the content will be written as a single continuous string.--"
   ]
  },
  {
   "cell_type": "code",
   "execution_count": null,
   "id": "4b1e026a-77cb-4ac3-9393-93a3ff71c4d8",
   "metadata": {},
   "outputs": [],
   "source": []
  }
 ],
 "metadata": {
  "kernelspec": {
   "display_name": "Python 3 (ipykernel)",
   "language": "python",
   "name": "python3"
  },
  "language_info": {
   "codemirror_mode": {
    "name": "ipython",
    "version": 3
   },
   "file_extension": ".py",
   "mimetype": "text/x-python",
   "name": "python",
   "nbconvert_exporter": "python",
   "pygments_lexer": "ipython3",
   "version": "3.10.8"
  }
 },
 "nbformat": 4,
 "nbformat_minor": 5
}
